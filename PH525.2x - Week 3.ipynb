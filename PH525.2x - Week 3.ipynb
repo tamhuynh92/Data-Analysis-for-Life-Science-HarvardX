{
 "cells": [
  {
   "cell_type": "code",
   "execution_count": 1,
   "metadata": {},
   "outputs": [
    {
     "data": {
      "text/plain": [
       "         day\n",
       "condition A B C\n",
       "  control 2 2 2\n",
       "  treated 2 2 2"
      ]
     },
     "metadata": {},
     "output_type": "display_data"
    }
   ],
   "source": [
    "condition <- factor(c(\"treated\",\"treated\",\"treated\",\"treated\",\"treated\",\"treated\",\"control\",\"control\",\"control\",\"control\",\"control\",\"control\"))\n",
    "day<- factor(c(\"A\",\"A\",\"B\",\"B\",\"C\",\"C\",\"A\",\"A\",\"B\",\"B\",\"C\",\"C\"))\n",
    "\n",
    "table(condition,day)"
   ]
  },
  {
   "cell_type": "code",
   "execution_count": 2,
   "metadata": {},
   "outputs": [
    {
     "data": {
      "text/html": [
       "<table>\n",
       "<thead><tr><th scope=col>(Intercept)</th><th scope=col>dayB</th><th scope=col>dayC</th><th scope=col>conditiontreated</th></tr></thead>\n",
       "<tbody>\n",
       "\t<tr><td>1</td><td>0</td><td>0</td><td>1</td></tr>\n",
       "\t<tr><td>1</td><td>0</td><td>0</td><td>1</td></tr>\n",
       "\t<tr><td>1</td><td>1</td><td>0</td><td>1</td></tr>\n",
       "\t<tr><td>1</td><td>1</td><td>0</td><td>1</td></tr>\n",
       "\t<tr><td>1</td><td>0</td><td>1</td><td>1</td></tr>\n",
       "\t<tr><td>1</td><td>0</td><td>1</td><td>1</td></tr>\n",
       "\t<tr><td>1</td><td>0</td><td>0</td><td>0</td></tr>\n",
       "\t<tr><td>1</td><td>0</td><td>0</td><td>0</td></tr>\n",
       "\t<tr><td>1</td><td>1</td><td>0</td><td>0</td></tr>\n",
       "\t<tr><td>1</td><td>1</td><td>0</td><td>0</td></tr>\n",
       "\t<tr><td>1</td><td>0</td><td>1</td><td>0</td></tr>\n",
       "\t<tr><td>1</td><td>0</td><td>1</td><td>0</td></tr>\n",
       "</tbody>\n",
       "</table>\n"
      ],
      "text/latex": [
       "\\begin{tabular}{r|llll}\n",
       " (Intercept) & dayB & dayC & conditiontreated\\\\\n",
       "\\hline\n",
       "\t 1 & 0 & 0 & 1\\\\\n",
       "\t 1 & 0 & 0 & 1\\\\\n",
       "\t 1 & 1 & 0 & 1\\\\\n",
       "\t 1 & 1 & 0 & 1\\\\\n",
       "\t 1 & 0 & 1 & 1\\\\\n",
       "\t 1 & 0 & 1 & 1\\\\\n",
       "\t 1 & 0 & 0 & 0\\\\\n",
       "\t 1 & 0 & 0 & 0\\\\\n",
       "\t 1 & 1 & 0 & 0\\\\\n",
       "\t 1 & 1 & 0 & 0\\\\\n",
       "\t 1 & 0 & 1 & 0\\\\\n",
       "\t 1 & 0 & 1 & 0\\\\\n",
       "\\end{tabular}\n"
      ],
      "text/markdown": [
       "\n",
       "| (Intercept) | dayB | dayC | conditiontreated |\n",
       "|---|---|---|---|\n",
       "| 1 | 0 | 0 | 1 |\n",
       "| 1 | 0 | 0 | 1 |\n",
       "| 1 | 1 | 0 | 1 |\n",
       "| 1 | 1 | 0 | 1 |\n",
       "| 1 | 0 | 1 | 1 |\n",
       "| 1 | 0 | 1 | 1 |\n",
       "| 1 | 0 | 0 | 0 |\n",
       "| 1 | 0 | 0 | 0 |\n",
       "| 1 | 1 | 0 | 0 |\n",
       "| 1 | 1 | 0 | 0 |\n",
       "| 1 | 0 | 1 | 0 |\n",
       "| 1 | 0 | 1 | 0 |\n",
       "\n"
      ],
      "text/plain": [
       "   (Intercept) dayB dayC conditiontreated\n",
       "1  1           0    0    1               \n",
       "2  1           0    0    1               \n",
       "3  1           1    0    1               \n",
       "4  1           1    0    1               \n",
       "5  1           0    1    1               \n",
       "6  1           0    1    1               \n",
       "7  1           0    0    0               \n",
       "8  1           0    0    0               \n",
       "9  1           1    0    0               \n",
       "10 1           1    0    0               \n",
       "11 1           0    1    0               \n",
       "12 1           0    1    0               "
      ]
     },
     "metadata": {},
     "output_type": "display_data"
    }
   ],
   "source": [
    "model.matrix(~day + condition)"
   ]
  },
  {
   "cell_type": "markdown",
   "metadata": {},
   "source": [
    "__You can make a design matrix X for a two group comparison either using model.matrix or simply with:__\n",
    "\n",
    "X = cbind(rep(1,nx + ny),rep(c(0,1),c(nx, ny)))\n",
    "\n",
    "For a comparison of two groups, where the first group has nx=5 samples, and the second group has ny=7 samples, what is the element in the 1st row and 1st column of X^T X?"
   ]
  },
  {
   "cell_type": "code",
   "execution_count": 3,
   "metadata": {},
   "outputs": [
    {
     "data": {
      "text/html": [
       "12"
      ],
      "text/latex": [
       "12"
      ],
      "text/markdown": [
       "12"
      ],
      "text/plain": [
       "[1] 12"
      ]
     },
     "metadata": {},
     "output_type": "display_data"
    }
   ],
   "source": [
    "nx=5\n",
    "ny=7\n",
    "\n",
    "X = cbind(rep(1,nx + ny),rep(c(0,1),c(nx, ny)))\n",
    "\n",
    "XtX = t(X) %*% X\n",
    "XtX[ 1,1 ]"
   ]
  },
  {
   "cell_type": "code",
   "execution_count": 4,
   "metadata": {},
   "outputs": [
    {
     "data": {
      "text/html": [
       "<table>\n",
       "<tbody>\n",
       "\t<tr><td>12</td><td>7 </td></tr>\n",
       "\t<tr><td> 7</td><td>7 </td></tr>\n",
       "</tbody>\n",
       "</table>\n"
      ],
      "text/latex": [
       "\\begin{tabular}{ll}\n",
       "\t 12 & 7 \\\\\n",
       "\t  7 & 7 \\\\\n",
       "\\end{tabular}\n"
      ],
      "text/markdown": [
       "\n",
       "| 12 | 7  |\n",
       "|  7 | 7  |\n",
       "\n"
      ],
      "text/plain": [
       "     [,1] [,2]\n",
       "[1,] 12   7   \n",
       "[2,]  7   7   "
      ]
     },
     "metadata": {},
     "output_type": "display_data"
    }
   ],
   "source": [
    "t(X) %*% X"
   ]
  },
  {
   "cell_type": "code",
   "execution_count": null,
   "metadata": {},
   "outputs": [],
   "source": []
  },
  {
   "cell_type": "code",
   "execution_count": null,
   "metadata": {},
   "outputs": [],
   "source": []
  }
 ],
 "metadata": {
  "kernelspec": {
   "display_name": "R",
   "language": "R",
   "name": "ir"
  },
  "language_info": {
   "codemirror_mode": "r",
   "file_extension": ".r",
   "mimetype": "text/x-r-source",
   "name": "R",
   "pygments_lexer": "r",
   "version": "3.5.1"
  }
 },
 "nbformat": 4,
 "nbformat_minor": 2
}
