{
 "cells": [
  {
   "cell_type": "code",
   "execution_count": 3,
   "metadata": {},
   "outputs": [],
   "source": [
    "X <- matrix(c(1,1,1,1,0,0,1,1),nrow=4)\n",
    "rownames(X) <- c(\"a\",\"a\",\"b\",\"b\")\n",
    "beta <- c(5, 2)"
   ]
  },
  {
   "cell_type": "code",
   "execution_count": 4,
   "metadata": {},
   "outputs": [
    {
     "data": {
      "text/html": [
       "<dl class=dl-horizontal>\n",
       "\t<dt>a</dt>\n",
       "\t\t<dd>5</dd>\n",
       "\t<dt>a</dt>\n",
       "\t\t<dd>5</dd>\n",
       "</dl>\n"
      ],
      "text/latex": [
       "\\begin{description*}\n",
       "\\item[a] 5\n",
       "\\item[a] 5\n",
       "\\end{description*}\n"
      ],
      "text/markdown": [
       "a\n",
       ":   5a\n",
       ":   5\n",
       "\n"
      ],
      "text/plain": [
       "a a \n",
       "5 5 "
      ]
     },
     "metadata": {},
     "output_type": "display_data"
    }
   ],
   "source": [
    "fitted = X %*% beta\n",
    "fitted[ 1:2, ]"
   ]
  },
  {
   "cell_type": "code",
   "execution_count": 5,
   "metadata": {},
   "outputs": [
    {
     "data": {
      "text/html": [
       "<dl class=dl-horizontal>\n",
       "\t<dt>b</dt>\n",
       "\t\t<dd>7</dd>\n",
       "\t<dt>b</dt>\n",
       "\t\t<dd>7</dd>\n",
       "</dl>\n"
      ],
      "text/latex": [
       "\\begin{description*}\n",
       "\\item[b] 7\n",
       "\\item[b] 7\n",
       "\\end{description*}\n"
      ],
      "text/markdown": [
       "b\n",
       ":   7b\n",
       ":   7\n",
       "\n"
      ],
      "text/plain": [
       "b b \n",
       "7 7 "
      ]
     },
     "metadata": {},
     "output_type": "display_data"
    }
   ],
   "source": [
    "fitted = X %*% beta\n",
    "fitted[ 3:4, ]"
   ]
  },
  {
   "cell_type": "code",
   "execution_count": 12,
   "metadata": {},
   "outputs": [],
   "source": [
    "X <- matrix(c(1,1,1,1,1,1,0,0,1,1,0,0,0,0,0,0,1,1),nrow=6)\n",
    "rownames(X) <- c(\"a\",\"a\",\"b\",\"b\",\"c\",\"c\")\n",
    "beta <- c(10,3,-3)"
   ]
  },
  {
   "cell_type": "code",
   "execution_count": 14,
   "metadata": {},
   "outputs": [
    {
     "data": {
      "text/html": [
       "<table>\n",
       "<tbody>\n",
       "\t<tr><th scope=row>a</th><td>10</td></tr>\n",
       "\t<tr><th scope=row>a</th><td>10</td></tr>\n",
       "\t<tr><th scope=row>b</th><td>13</td></tr>\n",
       "\t<tr><th scope=row>b</th><td>13</td></tr>\n",
       "\t<tr><th scope=row>c</th><td> 7</td></tr>\n",
       "\t<tr><th scope=row>c</th><td> 7</td></tr>\n",
       "</tbody>\n",
       "</table>\n"
      ],
      "text/latex": [
       "\\begin{tabular}{r|l}\n",
       "\ta & 10\\\\\n",
       "\ta & 10\\\\\n",
       "\tb & 13\\\\\n",
       "\tb & 13\\\\\n",
       "\tc &  7\\\\\n",
       "\tc &  7\\\\\n",
       "\\end{tabular}\n"
      ],
      "text/markdown": [
       "\n",
       "| a | 10 |\n",
       "| a | 10 |\n",
       "| b | 13 |\n",
       "| b | 13 |\n",
       "| c |  7 |\n",
       "| c |  7 |\n",
       "\n"
      ],
      "text/plain": [
       "  [,1]\n",
       "a 10  \n",
       "a 10  \n",
       "b 13  \n",
       "b 13  \n",
       "c  7  \n",
       "c  7  "
      ]
     },
     "metadata": {},
     "output_type": "display_data"
    }
   ],
   "source": [
    "fitted = X %*% beta\n",
    "fitted\n"
   ]
  },
  {
   "cell_type": "code",
   "execution_count": 15,
   "metadata": {},
   "outputs": [
    {
     "name": "stderr",
     "output_type": "stream",
     "text": [
      "Warning message:\n",
      "\"package 'UsingR' was built under R version 3.5.2\"Loading required package: MASS\n",
      "Loading required package: HistData\n",
      "Warning message:\n",
      "\"package 'HistData' was built under R version 3.5.2\"Loading required package: Hmisc\n",
      "Warning message:\n",
      "\"package 'Hmisc' was built under R version 3.5.2\"Loading required package: lattice\n",
      "Loading required package: survival\n",
      "Loading required package: Formula\n",
      "Warning message:\n",
      "\"package 'Formula' was built under R version 3.5.2\"Loading required package: ggplot2\n",
      "Warning message:\n",
      "\"package 'ggplot2' was built under R version 3.5.2\"\n",
      "Attaching package: 'Hmisc'\n",
      "\n",
      "The following objects are masked from 'package:base':\n",
      "\n",
      "    format.pval, units\n",
      "\n",
      "\n",
      "Attaching package: 'UsingR'\n",
      "\n",
      "The following object is masked from 'package:survival':\n",
      "\n",
      "    cancer\n",
      "\n"
     ]
    }
   ],
   "source": [
    "library(UsingR)\n",
    "\n",
    "x = father.son$fheight\n",
    "\n",
    "y = father.son$sheight\n",
    "\n",
    "n = length(y)\n",
    "\n",
    "N = 50\n",
    "\n",
    "set.seed(1)\n",
    "\n",
    "index = sample(n,N)\n",
    "\n",
    "sampledat = father.son[index,]\n",
    "\n",
    "x = sampledat$fheight\n",
    "\n",
    "y = sampledat$sheight\n",
    "\n",
    "betahat = lm(y~x)$coef"
   ]
  },
  {
   "cell_type": "code",
   "execution_count": 18,
   "metadata": {},
   "outputs": [
    {
     "data": {
      "text/html": [
       "<dl class=dl-horizontal>\n",
       "\t<dt>1</dt>\n",
       "\t\t<dd>70.6270725678734</dd>\n",
       "\t<dt>2</dt>\n",
       "\t\t<dd>70.3612851699595</dd>\n",
       "\t<dt>3</dt>\n",
       "\t\t<dd>70.8609272900247</dd>\n",
       "\t<dt>4</dt>\n",
       "\t\t<dd>68.7301884573692</dd>\n",
       "\t<dt>5</dt>\n",
       "\t\t<dd>65.5918132210402</dd>\n",
       "\t<dt>6</dt>\n",
       "\t\t<dd>70.5528460821914</dd>\n",
       "\t<dt>7</dt>\n",
       "\t\t<dd>70.212556916908</dd>\n",
       "\t<dt>8</dt>\n",
       "\t\t<dd>68.6252065644185</dd>\n",
       "\t<dt>9</dt>\n",
       "\t\t<dd>67.0672879242744</dd>\n",
       "\t<dt>10</dt>\n",
       "\t\t<dd>69.6491255870612</dd>\n",
       "\t<dt>11</dt>\n",
       "\t\t<dd>69.0995813397956</dd>\n",
       "\t<dt>12</dt>\n",
       "\t\t<dd>71.7062119256387</dd>\n",
       "\t<dt>13</dt>\n",
       "\t\t<dd>68.3159773733773</dd>\n",
       "\t<dt>14</dt>\n",
       "\t\t<dd>70.5702708273112</dd>\n",
       "\t<dt>15</dt>\n",
       "\t\t<dd>70.3953673857082</dd>\n",
       "\t<dt>16</dt>\n",
       "\t\t<dd>70.3961346601992</dd>\n",
       "\t<dt>17</dt>\n",
       "\t\t<dd>68.7397706029208</dd>\n",
       "\t<dt>18</dt>\n",
       "\t\t<dd>68.9887423896618</dd>\n",
       "\t<dt>19</dt>\n",
       "\t\t<dd>71.4702135205583</dd>\n",
       "\t<dt>20</dt>\n",
       "\t\t<dd>72.0361458138223</dd>\n",
       "\t<dt>21</dt>\n",
       "\t\t<dd>69.5597527515036</dd>\n",
       "\t<dt>22</dt>\n",
       "\t\t<dd>68.1589496702973</dd>\n",
       "\t<dt>23</dt>\n",
       "\t\t<dd>66.6355700963621</dd>\n",
       "\t<dt>24</dt>\n",
       "\t\t<dd>71.5365095508143</dd>\n",
       "\t<dt>25</dt>\n",
       "\t\t<dd>69.5708284466369</dd>\n",
       "\t<dt>26</dt>\n",
       "\t\t<dd>69.7105016892833</dd>\n",
       "\t<dt>27</dt>\n",
       "\t\t<dd>67.1426331078783</dd>\n",
       "\t<dt>28</dt>\n",
       "\t\t<dd>70.9971858683333</dd>\n",
       "\t<dt>29</dt>\n",
       "\t\t<dd>67.1104602927713</dd>\n",
       "\t<dt>30</dt>\n",
       "\t\t<dd>69.0490115080764</dd>\n",
       "\t<dt>31</dt>\n",
       "\t\t<dd>66.6524325639924</dd>\n",
       "\t<dt>32</dt>\n",
       "\t\t<dd>67.8289454974275</dd>\n",
       "\t<dt>33</dt>\n",
       "\t\t<dd>68.242090597012</dd>\n",
       "\t<dt>34</dt>\n",
       "\t\t<dd>70.7015626211286</dd>\n",
       "\t<dt>35</dt>\n",
       "\t\t<dd>65.504308786724</dd>\n",
       "\t<dt>36</dt>\n",
       "\t\t<dd>67.3600002140591</dd>\n",
       "\t<dt>37</dt>\n",
       "\t\t<dd>69.3006541128929</dd>\n",
       "\t<dt>38</dt>\n",
       "\t\t<dd>67.9442358110204</dd>\n",
       "\t<dt>39</dt>\n",
       "\t\t<dd>66.3514969659225</dd>\n",
       "\t<dt>40</dt>\n",
       "\t\t<dd>71.4048897617947</dd>\n",
       "\t<dt>41</dt>\n",
       "\t\t<dd>71.6430084215754</dd>\n",
       "\t<dt>42</dt>\n",
       "\t\t<dd>66.8165414492069</dd>\n",
       "\t<dt>43</dt>\n",
       "\t\t<dd>69.2290047323715</dd>\n",
       "\t<dt>44</dt>\n",
       "\t\t<dd>69.1176913606059</dd>\n",
       "\t<dt>45</dt>\n",
       "\t\t<dd>69.2179290372382</dd>\n",
       "\t<dt>46</dt>\n",
       "\t\t<dd>69.6951913418066</dd>\n",
       "\t<dt>47</dt>\n",
       "\t\t<dd>67.0067435241722</dd>\n",
       "\t<dt>48</dt>\n",
       "\t\t<dd>68.6786873535578</dd>\n",
       "\t<dt>49</dt>\n",
       "\t\t<dd>67.4075243760432</dd>\n",
       "\t<dt>50</dt>\n",
       "\t\t<dd>69.2880028693773</dd>\n",
       "</dl>\n"
      ],
      "text/latex": [
       "\\begin{description*}\n",
       "\\item[1] 70.6270725678734\n",
       "\\item[2] 70.3612851699595\n",
       "\\item[3] 70.8609272900247\n",
       "\\item[4] 68.7301884573692\n",
       "\\item[5] 65.5918132210402\n",
       "\\item[6] 70.5528460821914\n",
       "\\item[7] 70.212556916908\n",
       "\\item[8] 68.6252065644185\n",
       "\\item[9] 67.0672879242744\n",
       "\\item[10] 69.6491255870612\n",
       "\\item[11] 69.0995813397956\n",
       "\\item[12] 71.7062119256387\n",
       "\\item[13] 68.3159773733773\n",
       "\\item[14] 70.5702708273112\n",
       "\\item[15] 70.3953673857082\n",
       "\\item[16] 70.3961346601992\n",
       "\\item[17] 68.7397706029208\n",
       "\\item[18] 68.9887423896618\n",
       "\\item[19] 71.4702135205583\n",
       "\\item[20] 72.0361458138223\n",
       "\\item[21] 69.5597527515036\n",
       "\\item[22] 68.1589496702973\n",
       "\\item[23] 66.6355700963621\n",
       "\\item[24] 71.5365095508143\n",
       "\\item[25] 69.5708284466369\n",
       "\\item[26] 69.7105016892833\n",
       "\\item[27] 67.1426331078783\n",
       "\\item[28] 70.9971858683333\n",
       "\\item[29] 67.1104602927713\n",
       "\\item[30] 69.0490115080764\n",
       "\\item[31] 66.6524325639924\n",
       "\\item[32] 67.8289454974275\n",
       "\\item[33] 68.242090597012\n",
       "\\item[34] 70.7015626211286\n",
       "\\item[35] 65.504308786724\n",
       "\\item[36] 67.3600002140591\n",
       "\\item[37] 69.3006541128929\n",
       "\\item[38] 67.9442358110204\n",
       "\\item[39] 66.3514969659225\n",
       "\\item[40] 71.4048897617947\n",
       "\\item[41] 71.6430084215754\n",
       "\\item[42] 66.8165414492069\n",
       "\\item[43] 69.2290047323715\n",
       "\\item[44] 69.1176913606059\n",
       "\\item[45] 69.2179290372382\n",
       "\\item[46] 69.6951913418066\n",
       "\\item[47] 67.0067435241722\n",
       "\\item[48] 68.6786873535578\n",
       "\\item[49] 67.4075243760432\n",
       "\\item[50] 69.2880028693773\n",
       "\\end{description*}\n"
      ],
      "text/markdown": [
       "1\n",
       ":   70.62707256787342\n",
       ":   70.36128516995953\n",
       ":   70.86092729002474\n",
       ":   68.73018845736925\n",
       ":   65.59181322104026\n",
       ":   70.55284608219147\n",
       ":   70.2125569169088\n",
       ":   68.62520656441859\n",
       ":   67.067287924274410\n",
       ":   69.649125587061211\n",
       ":   69.099581339795612\n",
       ":   71.706211925638713\n",
       ":   68.315977373377314\n",
       ":   70.570270827311215\n",
       ":   70.395367385708216\n",
       ":   70.396134660199217\n",
       ":   68.739770602920818\n",
       ":   68.988742389661819\n",
       ":   71.470213520558320\n",
       ":   72.036145813822321\n",
       ":   69.559752751503622\n",
       ":   68.158949670297323\n",
       ":   66.635570096362124\n",
       ":   71.536509550814325\n",
       ":   69.570828446636926\n",
       ":   69.710501689283327\n",
       ":   67.142633107878328\n",
       ":   70.997185868333329\n",
       ":   67.110460292771330\n",
       ":   69.049011508076431\n",
       ":   66.652432563992432\n",
       ":   67.828945497427533\n",
       ":   68.24209059701234\n",
       ":   70.701562621128635\n",
       ":   65.50430878672436\n",
       ":   67.360000214059137\n",
       ":   69.300654112892938\n",
       ":   67.944235811020439\n",
       ":   66.351496965922540\n",
       ":   71.404889761794741\n",
       ":   71.643008421575442\n",
       ":   66.816541449206943\n",
       ":   69.229004732371544\n",
       ":   69.117691360605945\n",
       ":   69.217929037238246\n",
       ":   69.695191341806647\n",
       ":   67.006743524172248\n",
       ":   68.678687353557849\n",
       ":   67.407524376043250\n",
       ":   69.2880028693773\n",
       "\n"
      ],
      "text/plain": [
       "       1        2        3        4        5        6        7        8 \n",
       "70.62707 70.36129 70.86093 68.73019 65.59181 70.55285 70.21256 68.62521 \n",
       "       9       10       11       12       13       14       15       16 \n",
       "67.06729 69.64913 69.09958 71.70621 68.31598 70.57027 70.39537 70.39613 \n",
       "      17       18       19       20       21       22       23       24 \n",
       "68.73977 68.98874 71.47021 72.03615 69.55975 68.15895 66.63557 71.53651 \n",
       "      25       26       27       28       29       30       31       32 \n",
       "69.57083 69.71050 67.14263 70.99719 67.11046 69.04901 66.65243 67.82895 \n",
       "      33       34       35       36       37       38       39       40 \n",
       "68.24209 70.70156 65.50431 67.36000 69.30065 67.94424 66.35150 71.40489 \n",
       "      41       42       43       44       45       46       47       48 \n",
       "71.64301 66.81654 69.22900 69.11769 69.21793 69.69519 67.00674 68.67869 \n",
       "      49       50 \n",
       "67.40752 69.28800 "
      ]
     },
     "metadata": {},
     "output_type": "display_data"
    }
   ],
   "source": [
    "fit = lm(y ~ x)\n",
    "fit$fitted.values"
   ]
  },
  {
   "cell_type": "markdown",
   "metadata": {},
   "source": [
    "__What is the sum of the squared residuals (where residuals are given by r_i = Y_i - Y-hat_i)?__"
   ]
  },
  {
   "cell_type": "code",
   "execution_count": 22,
   "metadata": {},
   "outputs": [
    {
     "data": {
      "text/html": [
       "256.215154985793"
      ],
      "text/latex": [
       "256.215154985793"
      ],
      "text/markdown": [
       "256.215154985793"
      ],
      "text/plain": [
       "[1] 256.2152"
      ]
     },
     "metadata": {},
     "output_type": "display_data"
    }
   ],
   "source": [
    "sum((y-fit$fitted.values)^2)"
   ]
  },
  {
   "cell_type": "markdown",
   "metadata": {},
   "source": [
    "__Form the design matrix X (note: use a capital X!). This can be done by combining a column of 1's with a column of 'x' the father's heights.__\n",
    "\n",
    "X = cbind(rep(1,N), x)\n",
    "\n",
    "Now calculate (X^T X)^-1, the inverse of X transpose times X. Use the solve() function for the inverse and t() for the transpose. What is the element in the first row, first column?"
   ]
  },
  {
   "cell_type": "code",
   "execution_count": 23,
   "metadata": {},
   "outputs": [
    {
     "data": {
      "text/html": [
       "11.3027491386326"
      ],
      "text/latex": [
       "11.3027491386326"
      ],
      "text/markdown": [
       "11.3027491386326"
      ],
      "text/plain": [
       "[1] 11.30275"
      ]
     },
     "metadata": {},
     "output_type": "display_data"
    }
   ],
   "source": [
    "X = cbind(rep(1,N), x)\n",
    "solve(t(X) %*% X)[1,1]"
   ]
  },
  {
   "cell_type": "markdown",
   "metadata": {},
   "source": [
    "__Now we are one step away from the standard error of beta-hat. Take the diagonals from the (X^T X)^-1 matrix above, using the diag() function. Now multiply our estimate of sigma^2 and the diagonals of this matrix. This is the estimated variance of beta-hat, so take the square root of this. You should end up with two numbers, the standard error for the intercept and the standard error for the slope.\n",
    "What is the standard error for the slope?__"
   ]
  },
  {
   "cell_type": "code",
   "execution_count": 24,
   "metadata": {},
   "outputs": [
    {
     "data": {
      "text/html": [
       "<dl class=dl-horizontal>\n",
       "\t<dt>1</dt>\n",
       "\t\t<dd>7.76736781228656</dd>\n",
       "\t<dt>x</dt>\n",
       "\t\t<dd>0.114196602891538</dd>\n",
       "</dl>\n"
      ],
      "text/latex": [
       "\\begin{description*}\n",
       "\\item[1] 7.76736781228656\n",
       "\\item[x] 0.114196602891538\n",
       "\\end{description*}\n"
      ],
      "text/markdown": [
       "1\n",
       ":   7.76736781228656x\n",
       ":   0.114196602891538\n",
       "\n"
      ],
      "text/plain": [
       "                  x \n",
       "7.7673678 0.1141966 "
      ]
     },
     "metadata": {},
     "output_type": "display_data"
    }
   ],
   "source": [
    "sqrt(diag(solve(t(X) %*% X)) * (256.2152/48))"
   ]
  },
  {
   "cell_type": "code",
   "execution_count": null,
   "metadata": {},
   "outputs": [],
   "source": []
  },
  {
   "cell_type": "code",
   "execution_count": null,
   "metadata": {},
   "outputs": [],
   "source": []
  },
  {
   "cell_type": "code",
   "execution_count": null,
   "metadata": {},
   "outputs": [],
   "source": []
  },
  {
   "cell_type": "code",
   "execution_count": null,
   "metadata": {},
   "outputs": [],
   "source": []
  },
  {
   "cell_type": "code",
   "execution_count": null,
   "metadata": {},
   "outputs": [],
   "source": []
  }
 ],
 "metadata": {
  "kernelspec": {
   "display_name": "R",
   "language": "R",
   "name": "ir"
  },
  "language_info": {
   "codemirror_mode": "r",
   "file_extension": ".r",
   "mimetype": "text/x-r-source",
   "name": "R",
   "pygments_lexer": "r",
   "version": "3.5.1"
  }
 },
 "nbformat": 4,
 "nbformat_minor": 2
}
