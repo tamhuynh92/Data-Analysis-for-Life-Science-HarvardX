{
 "cells": [
  {
   "cell_type": "code",
   "execution_count": 7,
   "metadata": {},
   "outputs": [
    {
     "name": "stderr",
     "output_type": "stream",
     "text": [
      "-- Attaching packages --------------------------------------- tidyverse 1.2.1 --\n",
      "v ggplot2 3.1.0     v purrr   0.3.0\n",
      "v tibble  2.0.1     v dplyr   0.7.8\n",
      "v tidyr   0.8.1     v stringr 1.3.1\n",
      "v readr   1.1.1     v forcats 0.3.0\n",
      "Warning message:\n",
      "\"package 'ggplot2' was built under R version 3.5.2\"Warning message:\n",
      "\"package 'tibble' was built under R version 3.5.2\"Warning message:\n",
      "\"package 'purrr' was built under R version 3.5.2\"Warning message:\n",
      "\"package 'dplyr' was built under R version 3.5.2\"Warning message:\n",
      "\"package 'stringr' was built under R version 3.5.2\"-- Conflicts ------------------------------------------ tidyverse_conflicts() --\n",
      "x dplyr::filter() masks stats::filter()\n",
      "x dplyr::lag()    masks stats::lag()\n",
      "Warning message:\n",
      "\"package 'downloader' was built under R version 3.5.2\""
     ]
    }
   ],
   "source": [
    "library(tidyverse)\n",
    "library(downloader) "
   ]
  },
  {
   "cell_type": "code",
   "execution_count": 4,
   "metadata": {},
   "outputs": [],
   "source": [
    "url <- \"https://raw.githubusercontent.com/genomicsclass/dagdata/master/inst/extdata/babies.txt\"\n",
    "filename <- basename(url)\n",
    "download(url, destfile=filename)\n",
    "babies <- read.table(\"babies.txt\", header=TRUE)"
   ]
  },
  {
   "cell_type": "code",
   "execution_count": 5,
   "metadata": {},
   "outputs": [],
   "source": [
    "bwt.nonsmoke <- filter(babies, smoke==0) %>% select(bwt) %>% unlist \n",
    "bwt.smoke <- filter(babies, smoke==1) %>% select(bwt) %>% unlist"
   ]
  },
  {
   "cell_type": "code",
   "execution_count": 8,
   "metadata": {
    "scrolled": true
   },
   "outputs": [
    {
     "name": "stderr",
     "output_type": "stream",
     "text": [
      "Warning message:\n",
      "\"package 'rafalib' was built under R version 3.5.2\""
     ]
    },
    {
     "data": {
      "text/html": [
       "8.93766567908935"
      ],
      "text/latex": [
       "8.93766567908935"
      ],
      "text/markdown": [
       "8.93766567908935"
      ],
      "text/plain": [
       "[1] 8.937666"
      ]
     },
     "metadata": {},
     "output_type": "display_data"
    },
    {
     "data": {
      "text/html": [
       "17.3869606414067"
      ],
      "text/latex": [
       "17.3869606414067"
      ],
      "text/markdown": [
       "17.3869606414067"
      ],
      "text/plain": [
       "[1] 17.38696"
      ]
     },
     "metadata": {},
     "output_type": "display_data"
    },
    {
     "data": {
      "text/html": [
       "18.0802387605477"
      ],
      "text/latex": [
       "18.0802387605477"
      ],
      "text/markdown": [
       "18.0802387605477"
      ],
      "text/plain": [
       "[1] 18.08024"
      ]
     },
     "metadata": {},
     "output_type": "display_data"
    }
   ],
   "source": [
    "library(rafalib)\n",
    "mean(bwt.nonsmoke)-mean(bwt.smoke)\n",
    "popsd(bwt.nonsmoke)\n",
    "popsd(bwt.smoke)"
   ]
  },
  {
   "cell_type": "markdown",
   "metadata": {},
   "source": [
    "__Set the seed at 1 and obtain a samples from the non-smoking mothers (dat.ns) of size . Then, without resetting the seed, take a sample of the same size from and smoking mothers (dat.s). Compute the t-statistic (call it tval). Please make sure you input the absolute value of the t-statistic.__"
   ]
  },
  {
   "cell_type": "code",
   "execution_count": 16,
   "metadata": {},
   "outputs": [
    {
     "name": "stdout",
     "output_type": "stream",
     "text": [
      "       t \n",
      "2.120904 \n"
     ]
    }
   ],
   "source": [
    "set.seed(1)\n",
    "dat.ns<-sample(bwt.nonsmoke,25)\n",
    "dat.s<-sample(bwt.smoke,25)\n",
    "tval<-t.test(dat.ns,dat.s)$statistic\n",
    "print(tval)"
   ]
  },
  {
   "cell_type": "markdown",
   "metadata": {},
   "source": [
    "__Recall that we summarize our data using a t-statistics because we know that in situations where the null hypothesis is true (what we mean when we say \"under the null\") and the sample size is relatively large, this t-value will have an approximate standard normal distribution. Because we know the distribution of the t-value under the null, we can quantitatively determine how unusual the observed t-value would be if the null hypothesis were true.__\n",
    "\n",
    "The standard procedure is to examine the probability a t-statistic that actually does follow the null hypothesis would have larger absolute value than the absolute value of the t-value we just observed -- this is called a two-sided test.\n",
    "\n",
    "We have computed these by taking one minus the area under the standard normal curve between -abs(tval) and abs(tval). In R, we can do this by using the pnorm function, which computes the area under a normal curve from negative infinity up to the value given as its first argument: "
   ]
  },
  {
   "cell_type": "code",
   "execution_count": 19,
   "metadata": {},
   "outputs": [
    {
     "data": {
      "text/html": [
       "0.0339298465546902"
      ],
      "text/latex": [
       "0.0339298465546902"
      ],
      "text/markdown": [
       "0.0339298465546902"
      ],
      "text/plain": [
       "[1] 0.03392985"
      ]
     },
     "metadata": {},
     "output_type": "display_data"
    }
   ],
   "source": [
    "pval <- 1-(pnorm(abs(tval))-pnorm(-abs(tval)))\n",
    "pval"
   ]
  },
  {
   "cell_type": "markdown",
   "metadata": {},
   "source": [
    "__By reporting only p-values, many scientific publications provide an incomplete story of their findings. As we have mentioned, with very large sample sizes, scientifically insignificant differences between two groups can lead to small p-values. Confidence intervals are more informative as they include the estimate itself. Our estimate of the difference between babies of smoker and non-smokers: mean(dat.s) - mean( dat.ns). If we use the CLT, what quantity would we add and subtract to this estimate to obtain a 99% confidence interval?__"
   ]
  },
  {
   "cell_type": "code",
   "execution_count": 20,
   "metadata": {},
   "outputs": [
    {
     "data": {
      "text/html": [
       "12.0477973633499"
      ],
      "text/latex": [
       "12.0477973633499"
      ],
      "text/markdown": [
       "12.0477973633499"
      ],
      "text/plain": [
       "[1] 12.0478"
      ]
     },
     "metadata": {},
     "output_type": "display_data"
    }
   ],
   "source": [
    "qnorm(0.995)*sqrt( sd( dat.ns)^2/25 + sd( dat.s)^2/25 )"
   ]
  },
  {
   "cell_type": "markdown",
   "metadata": {},
   "source": [
    "__Imagine you are William_Sealy_Gosset and have just mathematically derived the distribution of the t-statistic when the sample comes from a normal distribution. Unlike Gosset you have access to computers and can use them to check the results.__\n",
    "\n",
    "Let's start by creating an outcome.\n",
    "\n",
    "Set the seed at 1, use rnorm to generate a random sample of size 5,  from a standard normal distribution, then compute the t-statistic  with  the sample standard deviation. What value do you observe?"
   ]
  },
  {
   "cell_type": "code",
   "execution_count": 3,
   "metadata": {},
   "outputs": [
    {
     "data": {
      "text/html": [
       "0.300774624995246"
      ],
      "text/latex": [
       "0.300774624995246"
      ],
      "text/markdown": [
       "0.300774624995246"
      ],
      "text/plain": [
       "[1] 0.3007746"
      ]
     },
     "metadata": {},
     "output_type": "display_data"
    }
   ],
   "source": [
    "set.seed(1)\n",
    "X<-rnorm(5)\n",
    "t_val<-(sqrt(5)*mean(X))/sd(X)\n",
    "t_val"
   ]
  },
  {
   "cell_type": "markdown",
   "metadata": {},
   "source": [
    "__You have just performed a Monte Carlo simulation using rnorm , a random number generator for normally distributed data. Gosset's mathematical calculation tells us that the t-statistic defined in the previous exercises, a random variable, follows a t-distribution with degrees of freedom. Monte Carlo simulations can be used to check the theory: we generate many outcomes and compare them to the theoretical result. Set the seed to 1, generate  t-statistics as done in exercise 1. What proportion is larger than 2?__"
   ]
  },
  {
   "cell_type": "code",
   "execution_count": 5,
   "metadata": {},
   "outputs": [
    {
     "data": {
      "text/html": [
       "0.068"
      ],
      "text/latex": [
       "0.068"
      ],
      "text/markdown": [
       "0.068"
      ],
      "text/plain": [
       "[1] 0.068"
      ]
     },
     "metadata": {},
     "output_type": "display_data"
    }
   ],
   "source": [
    "set.seed(1)\n",
    "t_test <- function(n) \n",
    "{\n",
    "  X <- rnorm(n)\n",
    "  t_val <- (sqrt(n)*mean(X))/sd(X) \n",
    "  return(t_val)\n",
    "}\n",
    "\n",
    "tp <- replicate(1000, t_test(5))\n",
    "mean(tp>=2)"
   ]
  },
  {
   "cell_type": "code",
   "execution_count": 8,
   "metadata": {},
   "outputs": [
    {
     "name": "stderr",
     "output_type": "stream",
     "text": [
      "Warning message:\n",
      "\"package 'bindrcpp' was built under R version 3.5.2\""
     ]
    }
   ],
   "source": [
    "url <- \"https://raw.githubusercontent.com/genomicsclass/dagdata/master/inst/extdata/babies.txt\"\n",
    "filename <- basename(url)\n",
    "download(url, destfile=filename)\n",
    "babies <- read.table(\"babies.txt\", header=TRUE)\n",
    "bwt.nonsmoke <- filter(babies, smoke==0) %>% select(bwt) %>% unlist \n",
    "bwt.smoke <- filter(babies, smoke==1) %>% select(bwt) %>% unlist"
   ]
  },
  {
   "cell_type": "code",
   "execution_count": 9,
   "metadata": {},
   "outputs": [],
   "source": [
    "N=10\n",
    "set.seed(1)\n",
    "nonsmokers <- sample(bwt.nonsmoke , N)\n",
    "smokers <- sample(bwt.smoke , N)\n",
    "obs <- mean(smokers) - mean(nonsmokers)"
   ]
  },
  {
   "cell_type": "code",
   "execution_count": 10,
   "metadata": {},
   "outputs": [
    {
     "data": {
      "text/html": [
       "-8.5"
      ],
      "text/latex": [
       "-8.5"
      ],
      "text/markdown": [
       "-8.5"
      ],
      "text/plain": [
       "[1] -8.5"
      ]
     },
     "metadata": {},
     "output_type": "display_data"
    }
   ],
   "source": [
    "dat <- c(smokers,nonsmokers)\n",
    "shuffle <- sample( dat )\n",
    "smokersstar <- shuffle[1:N]\n",
    "nonsmokersstar <- shuffle[(N+1):(2*N)]\n",
    "mean(smokersstar)-mean(nonsmokersstar)"
   ]
  },
  {
   "cell_type": "code",
   "execution_count": 11,
   "metadata": {},
   "outputs": [
    {
     "data": {
      "text/html": [
       "0.0569430569430569"
      ],
      "text/latex": [
       "0.0569430569430569"
      ],
      "text/markdown": [
       "0.0569430569430569"
      ],
      "text/plain": [
       "[1] 0.05694306"
      ]
     },
     "metadata": {},
     "output_type": "display_data"
    }
   ],
   "source": [
    "set.seed(1)\n",
    "test <- replicate(1000, \n",
    "{\n",
    "  shuffle <- sample( dat )\n",
    "  smokersstar <- shuffle[1:N]\n",
    "  nonsmokersstar <- shuffle[(N+1):(2*N)]\n",
    "  mean(smokersstar)-mean(nonsmokersstar)\n",
    "})\n",
    "( sum( abs(test) >= abs(obs)) +1 ) / ( length(test)+1 ) "
   ]
  },
  {
   "cell_type": "code",
   "execution_count": 14,
   "metadata": {},
   "outputs": [
    {
     "data": {
      "text/html": [
       "0.028971028971029"
      ],
      "text/latex": [
       "0.028971028971029"
      ],
      "text/markdown": [
       "0.028971028971029"
      ],
      "text/plain": [
       "[1] 0.02897103"
      ]
     },
     "metadata": {},
     "output_type": "display_data"
    }
   ],
   "source": [
    "N=10\n",
    "    set.seed(1)\n",
    "    nonsmokers <- sample(bwt.nonsmoke , N)\n",
    "    smokers <- sample(bwt.smoke , N)\n",
    "    obs <- median(smokers) - median(nonsmokers)\n",
    "    \n",
    "set.seed(1)\n",
    "null <- replicate(1000, {\n",
    "  shuffle <- sample( dat )\n",
    "  smokersstar <- shuffle[1:N]\n",
    "  nonsmokersstar <- shuffle[(N+1):(2*N)]\n",
    "  median(smokersstar)-median(nonsmokersstar)\n",
    "})\n",
    "( sum( abs(null) >= abs(obs)) +1 ) / ( length(null)+1 ) "
   ]
  },
  {
   "cell_type": "code",
   "execution_count": 17,
   "metadata": {},
   "outputs": [
    {
     "data": {
      "text/html": [
       "<table>\n",
       "<thead><tr><th scope=col>allele</th><th scope=col>case</th></tr></thead>\n",
       "<tbody>\n",
       "\t<tr><td>0</td><td>1</td></tr>\n",
       "\t<tr><td>0</td><td>0</td></tr>\n",
       "\t<tr><td>1</td><td>1</td></tr>\n",
       "\t<tr><td>1</td><td>1</td></tr>\n",
       "\t<tr><td>1</td><td>1</td></tr>\n",
       "\t<tr><td>0</td><td>0</td></tr>\n",
       "</tbody>\n",
       "</table>\n"
      ],
      "text/latex": [
       "\\begin{tabular}{r|ll}\n",
       " allele & case\\\\\n",
       "\\hline\n",
       "\t 0 & 1\\\\\n",
       "\t 0 & 0\\\\\n",
       "\t 1 & 1\\\\\n",
       "\t 1 & 1\\\\\n",
       "\t 1 & 1\\\\\n",
       "\t 0 & 0\\\\\n",
       "\\end{tabular}\n"
      ],
      "text/markdown": [
       "\n",
       "| allele | case |\n",
       "|---|---|\n",
       "| 0 | 1 |\n",
       "| 0 | 0 |\n",
       "| 1 | 1 |\n",
       "| 1 | 1 |\n",
       "| 1 | 1 |\n",
       "| 0 | 0 |\n",
       "\n"
      ],
      "text/plain": [
       "  allele case\n",
       "1 0      1   \n",
       "2 0      0   \n",
       "3 1      1   \n",
       "4 1      1   \n",
       "5 1      1   \n",
       "6 0      0   "
      ]
     },
     "metadata": {},
     "output_type": "display_data"
    }
   ],
   "source": [
    "dat = read.csv(\"assoctest.csv\")\n",
    "head(dat)"
   ]
  },
  {
   "cell_type": "code",
   "execution_count": 19,
   "metadata": {},
   "outputs": [
    {
     "data": {
      "text/plain": [
       "   \n",
       "     0  1\n",
       "  0 17 17\n",
       "  1 10 28"
      ]
     },
     "metadata": {},
     "output_type": "display_data"
    }
   ],
   "source": [
    "chitable <- table(dat$allele, dat$case)\n",
    "chitable"
   ]
  },
  {
   "cell_type": "code",
   "execution_count": 20,
   "metadata": {},
   "outputs": [
    {
     "data": {
      "text/plain": [
       "\n",
       "\tPearson's Chi-squared test with Yates' continuity correction\n",
       "\n",
       "data:  chitable\n",
       "X-squared = 3.3437, df = 1, p-value = 0.06746\n"
      ]
     },
     "metadata": {},
     "output_type": "display_data"
    }
   ],
   "source": [
    "chisq.test(chitable)\n"
   ]
  },
  {
   "cell_type": "code",
   "execution_count": 21,
   "metadata": {},
   "outputs": [
    {
     "data": {
      "text/plain": [
       "\n",
       "\tFisher's Exact Test for Count Data\n",
       "\n",
       "data:  chitable\n",
       "p-value = 0.05194\n",
       "alternative hypothesis: true odds ratio is not equal to 1\n",
       "95 percent confidence interval:\n",
       " 0.940442 8.493001\n",
       "sample estimates:\n",
       "odds ratio \n",
       "  2.758532 \n"
      ]
     },
     "metadata": {},
     "output_type": "display_data"
    }
   ],
   "source": [
    "fisher.test(chitable)\n"
   ]
  },
  {
   "cell_type": "code",
   "execution_count": null,
   "metadata": {},
   "outputs": [],
   "source": []
  }
 ],
 "metadata": {
  "kernelspec": {
   "display_name": "R",
   "language": "R",
   "name": "ir"
  },
  "language_info": {
   "codemirror_mode": "r",
   "file_extension": ".r",
   "mimetype": "text/x-r-source",
   "name": "R",
   "pygments_lexer": "r",
   "version": "3.5.1"
  }
 },
 "nbformat": 4,
 "nbformat_minor": 2
}
