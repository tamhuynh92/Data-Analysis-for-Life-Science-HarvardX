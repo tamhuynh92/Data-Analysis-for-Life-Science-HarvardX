{
 "cells": [
  {
   "cell_type": "code",
   "execution_count": 17,
   "metadata": {},
   "outputs": [],
   "source": [
    "library(UsingR)\n",
    "library(tidyverse)\n",
    "data(\"father.son\",package=\"UsingR\")"
   ]
  },
  {
   "cell_type": "markdown",
   "metadata": {},
   "source": [
    "__What is the average height of the sons (don't round off)?__"
   ]
  },
  {
   "cell_type": "code",
   "execution_count": 18,
   "metadata": {},
   "outputs": [
    {
     "data": {
      "text/html": [
       "<table>\n",
       "<thead><tr><th scope=col>fheight</th><th scope=col>sheight</th></tr></thead>\n",
       "<tbody>\n",
       "\t<tr><td>65.04851</td><td>59.77827</td></tr>\n",
       "\t<tr><td>63.25094</td><td>63.21404</td></tr>\n",
       "\t<tr><td>64.95532</td><td>63.34242</td></tr>\n",
       "\t<tr><td>65.75250</td><td>62.79238</td></tr>\n",
       "\t<tr><td>61.13723</td><td>64.28113</td></tr>\n",
       "\t<tr><td>63.02254</td><td>64.24221</td></tr>\n",
       "</tbody>\n",
       "</table>\n"
      ],
      "text/latex": [
       "\\begin{tabular}{r|ll}\n",
       " fheight & sheight\\\\\n",
       "\\hline\n",
       "\t 65.04851 & 59.77827\\\\\n",
       "\t 63.25094 & 63.21404\\\\\n",
       "\t 64.95532 & 63.34242\\\\\n",
       "\t 65.75250 & 62.79238\\\\\n",
       "\t 61.13723 & 64.28113\\\\\n",
       "\t 63.02254 & 64.24221\\\\\n",
       "\\end{tabular}\n"
      ],
      "text/markdown": [
       "\n",
       "| fheight | sheight |\n",
       "|---|---|\n",
       "| 65.04851 | 59.77827 |\n",
       "| 63.25094 | 63.21404 |\n",
       "| 64.95532 | 63.34242 |\n",
       "| 65.75250 | 62.79238 |\n",
       "| 61.13723 | 64.28113 |\n",
       "| 63.02254 | 64.24221 |\n",
       "\n"
      ],
      "text/plain": [
       "  fheight  sheight \n",
       "1 65.04851 59.77827\n",
       "2 63.25094 63.21404\n",
       "3 64.95532 63.34242\n",
       "4 65.75250 62.79238\n",
       "5 61.13723 64.28113\n",
       "6 63.02254 64.24221"
      ]
     },
     "metadata": {},
     "output_type": "display_data"
    }
   ],
   "source": [
    "head(father.son)"
   ]
  },
  {
   "cell_type": "code",
   "execution_count": 19,
   "metadata": {},
   "outputs": [
    {
     "data": {
      "text/html": [
       "68.6840696567718"
      ],
      "text/latex": [
       "68.6840696567718"
      ],
      "text/markdown": [
       "68.6840696567718"
      ],
      "text/plain": [
       "[1] 68.68407"
      ]
     },
     "metadata": {},
     "output_type": "display_data"
    }
   ],
   "source": [
    "mean(father.son$sheight)"
   ]
  },
  {
   "cell_type": "markdown",
   "metadata": {},
   "source": [
    "__Using the father.son dataset described above, we want to know the expected height of sons if we condition on the father being 71 inches. Create a list of son heights for sons that have fathers with heights of 71 inches (round to the nearest inch).__\n",
    "\n",
    "What is the mean of the son heights for fathers that have a height of 71 inches (don't round off your answer)? (Hint: use the function round() on the fathers' heights)"
   ]
  },
  {
   "cell_type": "code",
   "execution_count": 28,
   "metadata": {},
   "outputs": [],
   "source": [
    "father <-round(father.son$fheight,0)\n",
    "fatherson<-cbind(father,father.son)"
   ]
  },
  {
   "cell_type": "code",
   "execution_count": 29,
   "metadata": {},
   "outputs": [
    {
     "data": {
      "text/html": [
       "<table>\n",
       "<thead><tr><th scope=col>father</th><th scope=col>fheight</th><th scope=col>sheight</th></tr></thead>\n",
       "<tbody>\n",
       "\t<tr><td>65      </td><td>65.04851</td><td>59.77827</td></tr>\n",
       "\t<tr><td>63      </td><td>63.25094</td><td>63.21404</td></tr>\n",
       "\t<tr><td>65      </td><td>64.95532</td><td>63.34242</td></tr>\n",
       "\t<tr><td>66      </td><td>65.75250</td><td>62.79238</td></tr>\n",
       "\t<tr><td>61      </td><td>61.13723</td><td>64.28113</td></tr>\n",
       "\t<tr><td>63      </td><td>63.02254</td><td>64.24221</td></tr>\n",
       "</tbody>\n",
       "</table>\n"
      ],
      "text/latex": [
       "\\begin{tabular}{r|lll}\n",
       " father & fheight & sheight\\\\\n",
       "\\hline\n",
       "\t 65       & 65.04851 & 59.77827\\\\\n",
       "\t 63       & 63.25094 & 63.21404\\\\\n",
       "\t 65       & 64.95532 & 63.34242\\\\\n",
       "\t 66       & 65.75250 & 62.79238\\\\\n",
       "\t 61       & 61.13723 & 64.28113\\\\\n",
       "\t 63       & 63.02254 & 64.24221\\\\\n",
       "\\end{tabular}\n"
      ],
      "text/markdown": [
       "\n",
       "| father | fheight | sheight |\n",
       "|---|---|---|\n",
       "| 65       | 65.04851 | 59.77827 |\n",
       "| 63       | 63.25094 | 63.21404 |\n",
       "| 65       | 64.95532 | 63.34242 |\n",
       "| 66       | 65.75250 | 62.79238 |\n",
       "| 61       | 61.13723 | 64.28113 |\n",
       "| 63       | 63.02254 | 64.24221 |\n",
       "\n"
      ],
      "text/plain": [
       "  father fheight  sheight \n",
       "1 65     65.04851 59.77827\n",
       "2 63     63.25094 63.21404\n",
       "3 65     64.95532 63.34242\n",
       "4 66     65.75250 62.79238\n",
       "5 61     61.13723 64.28113\n",
       "6 63     63.02254 64.24221"
      ]
     },
     "metadata": {},
     "output_type": "display_data"
    }
   ],
   "source": [
    "head(fatherson)"
   ]
  },
  {
   "cell_type": "code",
   "execution_count": 30,
   "metadata": {},
   "outputs": [],
   "source": [
    "son <- fatherson %>% filter(father ==71) %>% select(sheight) %>% unlist"
   ]
  },
  {
   "cell_type": "code",
   "execution_count": 31,
   "metadata": {},
   "outputs": [
    {
     "data": {
      "text/html": [
       "70.5408187012987"
      ],
      "text/latex": [
       "70.5408187012987"
      ],
      "text/markdown": [
       "70.5408187012987"
      ],
      "text/plain": [
       "[1] 70.54082"
      ]
     },
     "metadata": {},
     "output_type": "display_data"
    }
   ],
   "source": [
    "mean(son)"
   ]
  },
  {
   "cell_type": "markdown",
   "metadata": {},
   "source": [
    "__Create the matrix from the vector 1:1000 like this:__\n",
    "\n",
    "X = matrix(1:1000,100,10)\n",
    "\n",
    "What is the entry in row 25, column 3 ?"
   ]
  },
  {
   "cell_type": "code",
   "execution_count": 32,
   "metadata": {},
   "outputs": [],
   "source": [
    "X = matrix(1:1000,100,10)"
   ]
  },
  {
   "cell_type": "code",
   "execution_count": 33,
   "metadata": {},
   "outputs": [
    {
     "data": {
      "text/html": [
       "225"
      ],
      "text/latex": [
       "225"
      ],
      "text/markdown": [
       "225"
      ],
      "text/plain": [
       "[1] 225"
      ]
     },
     "metadata": {},
     "output_type": "display_data"
    }
   ],
   "source": [
    "X[25,3]"
   ]
  },
  {
   "cell_type": "markdown",
   "metadata": {},
   "source": [
    "__Using the function cbind, create a 10 x 5 matrix with first column x=1:10. Then columns 2*x, 3*x, 4*x and 5*x in columns 2 through 5.__\n",
    "\n",
    "__What is the sum of the elements of the 7th row?__"
   ]
  },
  {
   "cell_type": "code",
   "execution_count": 34,
   "metadata": {},
   "outputs": [
    {
     "data": {
      "text/html": [
       "105"
      ],
      "text/latex": [
       "105"
      ],
      "text/markdown": [
       "105"
      ],
      "text/plain": [
       "[1] 105"
      ]
     },
     "metadata": {},
     "output_type": "display_data"
    }
   ],
   "source": [
    "x=1:10\n",
    "mat<-cbind(x,2*x,3*x,4*x,5*x)\n",
    "sum(mat[7,])"
   ]
  },
  {
   "cell_type": "markdown",
   "metadata": {},
   "source": [
    "__Which of the following creates a matrix with multiples of 3 in the third column?__"
   ]
  },
  {
   "cell_type": "code",
   "execution_count": 35,
   "metadata": {},
   "outputs": [
    {
     "data": {
      "text/html": [
       "<table>\n",
       "<tbody>\n",
       "\t<tr><td> 1</td><td> 2</td><td> 3</td></tr>\n",
       "\t<tr><td> 4</td><td> 5</td><td> 6</td></tr>\n",
       "\t<tr><td> 7</td><td> 8</td><td> 9</td></tr>\n",
       "\t<tr><td>10</td><td>11</td><td>12</td></tr>\n",
       "\t<tr><td>13</td><td>14</td><td>15</td></tr>\n",
       "\t<tr><td>16</td><td>17</td><td>18</td></tr>\n",
       "\t<tr><td>19</td><td>20</td><td>21</td></tr>\n",
       "\t<tr><td>22</td><td>23</td><td>24</td></tr>\n",
       "\t<tr><td>25</td><td>26</td><td>27</td></tr>\n",
       "\t<tr><td>28</td><td>29</td><td>30</td></tr>\n",
       "\t<tr><td>31</td><td>32</td><td>33</td></tr>\n",
       "\t<tr><td>34</td><td>35</td><td>36</td></tr>\n",
       "\t<tr><td>37</td><td>38</td><td>39</td></tr>\n",
       "\t<tr><td>40</td><td>41</td><td>42</td></tr>\n",
       "\t<tr><td>43</td><td>44</td><td>45</td></tr>\n",
       "\t<tr><td>46</td><td>47</td><td>48</td></tr>\n",
       "\t<tr><td>49</td><td>50</td><td>51</td></tr>\n",
       "\t<tr><td>52</td><td>53</td><td>54</td></tr>\n",
       "\t<tr><td>55</td><td>56</td><td>57</td></tr>\n",
       "\t<tr><td>58</td><td>59</td><td>60</td></tr>\n",
       "</tbody>\n",
       "</table>\n"
      ],
      "text/latex": [
       "\\begin{tabular}{lll}\n",
       "\t  1 &  2 &  3\\\\\n",
       "\t  4 &  5 &  6\\\\\n",
       "\t  7 &  8 &  9\\\\\n",
       "\t 10 & 11 & 12\\\\\n",
       "\t 13 & 14 & 15\\\\\n",
       "\t 16 & 17 & 18\\\\\n",
       "\t 19 & 20 & 21\\\\\n",
       "\t 22 & 23 & 24\\\\\n",
       "\t 25 & 26 & 27\\\\\n",
       "\t 28 & 29 & 30\\\\\n",
       "\t 31 & 32 & 33\\\\\n",
       "\t 34 & 35 & 36\\\\\n",
       "\t 37 & 38 & 39\\\\\n",
       "\t 40 & 41 & 42\\\\\n",
       "\t 43 & 44 & 45\\\\\n",
       "\t 46 & 47 & 48\\\\\n",
       "\t 49 & 50 & 51\\\\\n",
       "\t 52 & 53 & 54\\\\\n",
       "\t 55 & 56 & 57\\\\\n",
       "\t 58 & 59 & 60\\\\\n",
       "\\end{tabular}\n"
      ],
      "text/markdown": [
       "\n",
       "|  1 |  2 |  3 |\n",
       "|  4 |  5 |  6 |\n",
       "|  7 |  8 |  9 |\n",
       "| 10 | 11 | 12 |\n",
       "| 13 | 14 | 15 |\n",
       "| 16 | 17 | 18 |\n",
       "| 19 | 20 | 21 |\n",
       "| 22 | 23 | 24 |\n",
       "| 25 | 26 | 27 |\n",
       "| 28 | 29 | 30 |\n",
       "| 31 | 32 | 33 |\n",
       "| 34 | 35 | 36 |\n",
       "| 37 | 38 | 39 |\n",
       "| 40 | 41 | 42 |\n",
       "| 43 | 44 | 45 |\n",
       "| 46 | 47 | 48 |\n",
       "| 49 | 50 | 51 |\n",
       "| 52 | 53 | 54 |\n",
       "| 55 | 56 | 57 |\n",
       "| 58 | 59 | 60 |\n",
       "\n"
      ],
      "text/plain": [
       "      [,1] [,2] [,3]\n",
       " [1,]  1    2    3  \n",
       " [2,]  4    5    6  \n",
       " [3,]  7    8    9  \n",
       " [4,] 10   11   12  \n",
       " [5,] 13   14   15  \n",
       " [6,] 16   17   18  \n",
       " [7,] 19   20   21  \n",
       " [8,] 22   23   24  \n",
       " [9,] 25   26   27  \n",
       "[10,] 28   29   30  \n",
       "[11,] 31   32   33  \n",
       "[12,] 34   35   36  \n",
       "[13,] 37   38   39  \n",
       "[14,] 40   41   42  \n",
       "[15,] 43   44   45  \n",
       "[16,] 46   47   48  \n",
       "[17,] 49   50   51  \n",
       "[18,] 52   53   54  \n",
       "[19,] 55   56   57  \n",
       "[20,] 58   59   60  "
      ]
     },
     "metadata": {},
     "output_type": "display_data"
    }
   ],
   "source": [
    "matrix(1:60,20,3,byrow=TRUE) "
   ]
  },
  {
   "cell_type": "markdown",
   "metadata": {},
   "source": [
    "__Solve the following system of equations using R:__\n",
    "\n",
    "3a + 4b - 5c + d = 10\n",
    "\n",
    "2a + 2b + 2c - d = 5\n",
    "\n",
    "a -b + 5c - 5d = 7\n",
    "\n",
    "5a + d = 4\n",
    "\n",
    "What is the solution for c:"
   ]
  },
  {
   "cell_type": "code",
   "execution_count": 36,
   "metadata": {},
   "outputs": [
    {
     "data": {
      "text/html": [
       "<table>\n",
       "<tbody>\n",
       "\t<tr><td>3 </td><td> 4</td><td>-5</td><td> 1</td></tr>\n",
       "\t<tr><td>2 </td><td> 2</td><td> 2</td><td>-1</td></tr>\n",
       "\t<tr><td>1 </td><td>-1</td><td> 5</td><td>-5</td></tr>\n",
       "\t<tr><td>5 </td><td> 0</td><td> 0</td><td> 1</td></tr>\n",
       "</tbody>\n",
       "</table>\n"
      ],
      "text/latex": [
       "\\begin{tabular}{llll}\n",
       "\t 3  &  4 & -5 &  1\\\\\n",
       "\t 2  &  2 &  2 & -1\\\\\n",
       "\t 1  & -1 &  5 & -5\\\\\n",
       "\t 5  &  0 &  0 &  1\\\\\n",
       "\\end{tabular}\n"
      ],
      "text/markdown": [
       "\n",
       "| 3  |  4 | -5 |  1 |\n",
       "| 2  |  2 |  2 | -1 |\n",
       "| 1  | -1 |  5 | -5 |\n",
       "| 5  |  0 |  0 |  1 |\n",
       "\n"
      ],
      "text/plain": [
       "     [,1] [,2] [,3] [,4]\n",
       "[1,] 3     4   -5    1  \n",
       "[2,] 2     2    2   -1  \n",
       "[3,] 1    -1    5   -5  \n",
       "[4,] 5     0    0    1  "
      ]
     },
     "metadata": {},
     "output_type": "display_data"
    }
   ],
   "source": [
    "X <- matrix(c(3,2,1,5,4,2,-1,0,-5,2,5,0,1,-1,-5,1),4,4)\n",
    "X"
   ]
  },
  {
   "cell_type": "code",
   "execution_count": 38,
   "metadata": {},
   "outputs": [
    {
     "data": {
      "text/html": [
       "<table>\n",
       "<tbody>\n",
       "\t<tr><td>10</td></tr>\n",
       "\t<tr><td> 5</td></tr>\n",
       "\t<tr><td> 7</td></tr>\n",
       "\t<tr><td> 4</td></tr>\n",
       "</tbody>\n",
       "</table>\n"
      ],
      "text/latex": [
       "\\begin{tabular}{l}\n",
       "\t 10\\\\\n",
       "\t  5\\\\\n",
       "\t  7\\\\\n",
       "\t  4\\\\\n",
       "\\end{tabular}\n"
      ],
      "text/markdown": [
       "\n",
       "| 10 |\n",
       "|  5 |\n",
       "|  7 |\n",
       "|  4 |\n",
       "\n"
      ],
      "text/plain": [
       "     [,1]\n",
       "[1,] 10  \n",
       "[2,]  5  \n",
       "[3,]  7  \n",
       "[4,]  4  "
      ]
     },
     "metadata": {},
     "output_type": "display_data"
    }
   ],
   "source": [
    "y <- matrix(c(10,5,7,4),4,1)\n",
    "y"
   ]
  },
  {
   "cell_type": "code",
   "execution_count": 39,
   "metadata": {},
   "outputs": [],
   "source": [
    "sol = solve(X,y)"
   ]
  },
  {
   "cell_type": "code",
   "execution_count": 41,
   "metadata": {},
   "outputs": [
    {
     "data": {
      "text/html": [
       "<table>\n",
       "<tbody>\n",
       "\t<tr><td> 1.2477876</td></tr>\n",
       "\t<tr><td> 1.0176991</td></tr>\n",
       "\t<tr><td>-0.8849558</td></tr>\n",
       "\t<tr><td>-2.2389381</td></tr>\n",
       "</tbody>\n",
       "</table>\n"
      ],
      "text/latex": [
       "\\begin{tabular}{l}\n",
       "\t  1.2477876\\\\\n",
       "\t  1.0176991\\\\\n",
       "\t -0.8849558\\\\\n",
       "\t -2.2389381\\\\\n",
       "\\end{tabular}\n"
      ],
      "text/markdown": [
       "\n",
       "|  1.2477876 |\n",
       "|  1.0176991 |\n",
       "| -0.8849558 |\n",
       "| -2.2389381 |\n",
       "\n"
      ],
      "text/plain": [
       "     [,1]      \n",
       "[1,]  1.2477876\n",
       "[2,]  1.0176991\n",
       "[3,] -0.8849558\n",
       "[4,] -2.2389381"
      ]
     },
     "metadata": {},
     "output_type": "display_data"
    }
   ],
   "source": [
    "sol"
   ]
  },
  {
   "cell_type": "markdown",
   "metadata": {},
   "source": [
    "__What is the value in the 3rd row and the 2nd column of the matrix product of 'a' and 'b'__"
   ]
  },
  {
   "cell_type": "code",
   "execution_count": 42,
   "metadata": {},
   "outputs": [],
   "source": [
    "a <- matrix(1:12, nrow=4)\n",
    "b <- matrix(1:15, nrow=3)"
   ]
  },
  {
   "cell_type": "code",
   "execution_count": 43,
   "metadata": {},
   "outputs": [
    {
     "data": {
      "text/html": [
       "113"
      ],
      "text/latex": [
       "113"
      ],
      "text/markdown": [
       "113"
      ],
      "text/plain": [
       "[1] 113"
      ]
     },
     "metadata": {},
     "output_type": "display_data"
    }
   ],
   "source": [
    "c<-a %*% b\n",
    "c[3,2]"
   ]
  },
  {
   "cell_type": "markdown",
   "metadata": {},
   "source": [
    "__Multiply the 3rd row of 'a' with the 2nd column of 'b', using the element-wise vector multiplication with *.__\n",
    "__What is the sum of the elements in the resulting vector?__"
   ]
  },
  {
   "cell_type": "code",
   "execution_count": 44,
   "metadata": {},
   "outputs": [
    {
     "data": {
      "text/html": [
       "113"
      ],
      "text/latex": [
       "113"
      ],
      "text/markdown": [
       "113"
      ],
      "text/plain": [
       "[1] 113"
      ]
     },
     "metadata": {},
     "output_type": "display_data"
    }
   ],
   "source": [
    "sum(a[3,] * b[,2])"
   ]
  },
  {
   "cell_type": "code",
   "execution_count": null,
   "metadata": {},
   "outputs": [],
   "source": []
  },
  {
   "cell_type": "code",
   "execution_count": null,
   "metadata": {},
   "outputs": [],
   "source": []
  },
  {
   "cell_type": "code",
   "execution_count": null,
   "metadata": {},
   "outputs": [],
   "source": []
  },
  {
   "cell_type": "code",
   "execution_count": null,
   "metadata": {},
   "outputs": [],
   "source": []
  },
  {
   "cell_type": "code",
   "execution_count": null,
   "metadata": {},
   "outputs": [],
   "source": []
  },
  {
   "cell_type": "code",
   "execution_count": null,
   "metadata": {},
   "outputs": [],
   "source": []
  }
 ],
 "metadata": {
  "kernelspec": {
   "display_name": "R",
   "language": "R",
   "name": "ir"
  },
  "language_info": {
   "codemirror_mode": "r",
   "file_extension": ".r",
   "mimetype": "text/x-r-source",
   "name": "R",
   "pygments_lexer": "r",
   "version": "3.5.1"
  }
 },
 "nbformat": 4,
 "nbformat_minor": 2
}
